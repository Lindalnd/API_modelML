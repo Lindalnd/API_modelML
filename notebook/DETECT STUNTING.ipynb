{
 "cells": [
  {
   "cell_type": "code",
   "execution_count": 1,
   "id": "744fafd8",
   "metadata": {},
   "outputs": [],
   "source": [
    "#manajemen dataframe\n",
    "import pandas as pd \n",
    "\n",
    "#operasi aritmatika\n",
    "import numpy as np \n",
    "\n",
    "#visualisasi data\n",
    "import seaborn as sns\n",
    "import matplotlib.pyplot as plt\n",
    "\n",
    "import sklearn\n"
   ]
  },
  {
   "cell_type": "code",
   "execution_count": 2,
   "id": "3cd75d78",
   "metadata": {},
   "outputs": [
    {
     "data": {
      "text/html": [
       "<div>\n",
       "<style scoped>\n",
       "    .dataframe tbody tr th:only-of-type {\n",
       "        vertical-align: middle;\n",
       "    }\n",
       "\n",
       "    .dataframe tbody tr th {\n",
       "        vertical-align: top;\n",
       "    }\n",
       "\n",
       "    .dataframe thead th {\n",
       "        text-align: right;\n",
       "    }\n",
       "</style>\n",
       "<table border=\"1\" class=\"dataframe\">\n",
       "  <thead>\n",
       "    <tr style=\"text-align: right;\">\n",
       "      <th></th>\n",
       "      <th>Umur (bulan)</th>\n",
       "      <th>Jenis Kelamin</th>\n",
       "      <th>Tinggi Badan (cm)</th>\n",
       "      <th>Status Gizi</th>\n",
       "    </tr>\n",
       "  </thead>\n",
       "  <tbody>\n",
       "    <tr>\n",
       "      <th>0</th>\n",
       "      <td>0</td>\n",
       "      <td>laki-laki</td>\n",
       "      <td>44.591973</td>\n",
       "      <td>stunted</td>\n",
       "    </tr>\n",
       "    <tr>\n",
       "      <th>1</th>\n",
       "      <td>0</td>\n",
       "      <td>laki-laki</td>\n",
       "      <td>56.705203</td>\n",
       "      <td>tinggi</td>\n",
       "    </tr>\n",
       "    <tr>\n",
       "      <th>2</th>\n",
       "      <td>0</td>\n",
       "      <td>laki-laki</td>\n",
       "      <td>46.863358</td>\n",
       "      <td>normal</td>\n",
       "    </tr>\n",
       "    <tr>\n",
       "      <th>3</th>\n",
       "      <td>0</td>\n",
       "      <td>laki-laki</td>\n",
       "      <td>47.508026</td>\n",
       "      <td>normal</td>\n",
       "    </tr>\n",
       "    <tr>\n",
       "      <th>4</th>\n",
       "      <td>0</td>\n",
       "      <td>laki-laki</td>\n",
       "      <td>42.743494</td>\n",
       "      <td>severely stunted</td>\n",
       "    </tr>\n",
       "    <tr>\n",
       "      <th>...</th>\n",
       "      <td>...</td>\n",
       "      <td>...</td>\n",
       "      <td>...</td>\n",
       "      <td>...</td>\n",
       "    </tr>\n",
       "    <tr>\n",
       "      <th>120994</th>\n",
       "      <td>60</td>\n",
       "      <td>perempuan</td>\n",
       "      <td>100.600000</td>\n",
       "      <td>normal</td>\n",
       "    </tr>\n",
       "    <tr>\n",
       "      <th>120995</th>\n",
       "      <td>60</td>\n",
       "      <td>perempuan</td>\n",
       "      <td>98.300000</td>\n",
       "      <td>stunted</td>\n",
       "    </tr>\n",
       "    <tr>\n",
       "      <th>120996</th>\n",
       "      <td>60</td>\n",
       "      <td>perempuan</td>\n",
       "      <td>121.300000</td>\n",
       "      <td>normal</td>\n",
       "    </tr>\n",
       "    <tr>\n",
       "      <th>120997</th>\n",
       "      <td>60</td>\n",
       "      <td>perempuan</td>\n",
       "      <td>112.200000</td>\n",
       "      <td>normal</td>\n",
       "    </tr>\n",
       "    <tr>\n",
       "      <th>120998</th>\n",
       "      <td>60</td>\n",
       "      <td>perempuan</td>\n",
       "      <td>109.800000</td>\n",
       "      <td>normal</td>\n",
       "    </tr>\n",
       "  </tbody>\n",
       "</table>\n",
       "<p>120999 rows × 4 columns</p>\n",
       "</div>"
      ],
      "text/plain": [
       "        Umur (bulan) Jenis Kelamin  Tinggi Badan (cm)       Status Gizi\n",
       "0                  0     laki-laki          44.591973           stunted\n",
       "1                  0     laki-laki          56.705203            tinggi\n",
       "2                  0     laki-laki          46.863358            normal\n",
       "3                  0     laki-laki          47.508026            normal\n",
       "4                  0     laki-laki          42.743494  severely stunted\n",
       "...              ...           ...                ...               ...\n",
       "120994            60     perempuan         100.600000            normal\n",
       "120995            60     perempuan          98.300000           stunted\n",
       "120996            60     perempuan         121.300000            normal\n",
       "120997            60     perempuan         112.200000            normal\n",
       "120998            60     perempuan         109.800000            normal\n",
       "\n",
       "[120999 rows x 4 columns]"
      ]
     },
     "execution_count": 2,
     "metadata": {},
     "output_type": "execute_result"
    }
   ],
   "source": [
    "stunting = pd.read_csv('data_balita.csv')\n",
    "\n",
    "stunting"
   ]
  },
  {
   "cell_type": "markdown",
   "id": "cb6228aa",
   "metadata": {},
   "source": [
    "# DATA UNDERSTANDING\n"
   ]
  },
  {
   "cell_type": "code",
   "execution_count": 3,
   "id": "3c476882",
   "metadata": {},
   "outputs": [
    {
     "name": "stdout",
     "output_type": "stream",
     "text": [
      "<class 'pandas.core.frame.DataFrame'>\n",
      "RangeIndex: 120999 entries, 0 to 120998\n",
      "Data columns (total 4 columns):\n",
      " #   Column             Non-Null Count   Dtype  \n",
      "---  ------             --------------   -----  \n",
      " 0   Umur (bulan)       120999 non-null  int64  \n",
      " 1   Jenis Kelamin      120999 non-null  object \n",
      " 2   Tinggi Badan (cm)  120999 non-null  float64\n",
      " 3   Status Gizi        120999 non-null  object \n",
      "dtypes: float64(1), int64(1), object(2)\n",
      "memory usage: 3.7+ MB\n"
     ]
    }
   ],
   "source": [
    "stunting.info()"
   ]
  },
  {
   "cell_type": "code",
   "execution_count": 4,
   "id": "220b1a1f",
   "metadata": {},
   "outputs": [
    {
     "data": {
      "text/html": [
       "<div>\n",
       "<style scoped>\n",
       "    .dataframe tbody tr th:only-of-type {\n",
       "        vertical-align: middle;\n",
       "    }\n",
       "\n",
       "    .dataframe tbody tr th {\n",
       "        vertical-align: top;\n",
       "    }\n",
       "\n",
       "    .dataframe thead th {\n",
       "        text-align: right;\n",
       "    }\n",
       "</style>\n",
       "<table border=\"1\" class=\"dataframe\">\n",
       "  <thead>\n",
       "    <tr style=\"text-align: right;\">\n",
       "      <th></th>\n",
       "      <th>Umur (bulan)</th>\n",
       "      <th>Tinggi Badan (cm)</th>\n",
       "    </tr>\n",
       "  </thead>\n",
       "  <tbody>\n",
       "    <tr>\n",
       "      <th>count</th>\n",
       "      <td>120999.000000</td>\n",
       "      <td>120999.000000</td>\n",
       "    </tr>\n",
       "    <tr>\n",
       "      <th>mean</th>\n",
       "      <td>30.173803</td>\n",
       "      <td>88.655434</td>\n",
       "    </tr>\n",
       "    <tr>\n",
       "      <th>std</th>\n",
       "      <td>17.575119</td>\n",
       "      <td>17.300997</td>\n",
       "    </tr>\n",
       "    <tr>\n",
       "      <th>min</th>\n",
       "      <td>0.000000</td>\n",
       "      <td>40.010437</td>\n",
       "    </tr>\n",
       "    <tr>\n",
       "      <th>25%</th>\n",
       "      <td>15.000000</td>\n",
       "      <td>77.000000</td>\n",
       "    </tr>\n",
       "    <tr>\n",
       "      <th>50%</th>\n",
       "      <td>30.000000</td>\n",
       "      <td>89.800000</td>\n",
       "    </tr>\n",
       "    <tr>\n",
       "      <th>75%</th>\n",
       "      <td>45.000000</td>\n",
       "      <td>101.200000</td>\n",
       "    </tr>\n",
       "    <tr>\n",
       "      <th>max</th>\n",
       "      <td>60.000000</td>\n",
       "      <td>128.000000</td>\n",
       "    </tr>\n",
       "  </tbody>\n",
       "</table>\n",
       "</div>"
      ],
      "text/plain": [
       "        Umur (bulan)  Tinggi Badan (cm)\n",
       "count  120999.000000      120999.000000\n",
       "mean       30.173803          88.655434\n",
       "std        17.575119          17.300997\n",
       "min         0.000000          40.010437\n",
       "25%        15.000000          77.000000\n",
       "50%        30.000000          89.800000\n",
       "75%        45.000000         101.200000\n",
       "max        60.000000         128.000000"
      ]
     },
     "execution_count": 4,
     "metadata": {},
     "output_type": "execute_result"
    }
   ],
   "source": [
    "stunting.describe()"
   ]
  },
  {
   "cell_type": "code",
   "execution_count": 5,
   "id": "2445e9bb",
   "metadata": {},
   "outputs": [
    {
     "data": {
      "text/plain": [
       "normal              67755\n",
       "severely stunted    19869\n",
       "tinggi              19560\n",
       "stunted             13815\n",
       "Name: Status Gizi, dtype: int64"
      ]
     },
     "execution_count": 5,
     "metadata": {},
     "output_type": "execute_result"
    }
   ],
   "source": [
    "stunting['Status Gizi'].value_counts()"
   ]
  },
  {
   "cell_type": "code",
   "execution_count": 6,
   "id": "4a919c54",
   "metadata": {},
   "outputs": [
    {
     "data": {
      "text/plain": [
       "perempuan    61002\n",
       "laki-laki    59997\n",
       "Name: Jenis Kelamin, dtype: int64"
      ]
     },
     "execution_count": 6,
     "metadata": {},
     "output_type": "execute_result"
    }
   ],
   "source": [
    "stunting['Jenis Kelamin'].value_counts()"
   ]
  },
  {
   "cell_type": "markdown",
   "id": "f8ea84e7",
   "metadata": {},
   "source": [
    "# DATA PREPOCESSING"
   ]
  },
  {
   "cell_type": "code",
   "execution_count": 7,
   "id": "06bc3ae8",
   "metadata": {},
   "outputs": [
    {
     "data": {
      "text/plain": [
       "Umur (bulan)         0\n",
       "Jenis Kelamin        0\n",
       "Tinggi Badan (cm)    0\n",
       "Status Gizi          0\n",
       "dtype: int64"
      ]
     },
     "execution_count": 7,
     "metadata": {},
     "output_type": "execute_result"
    }
   ],
   "source": [
    "stunting.isnull().sum()"
   ]
  },
  {
   "cell_type": "code",
   "execution_count": 8,
   "id": "e4dc17da",
   "metadata": {},
   "outputs": [
    {
     "data": {
      "text/plain": [
       "81574"
      ]
     },
     "execution_count": 8,
     "metadata": {},
     "output_type": "execute_result"
    }
   ],
   "source": [
    "stunting.duplicated().sum()"
   ]
  },
  {
   "cell_type": "code",
   "execution_count": 10,
   "id": "b89ff065",
   "metadata": {},
   "outputs": [
    {
     "name": "stdout",
     "output_type": "stream",
     "text": [
      "Result Data after duplicate removal :         Umur (bulan) Jenis Kelamin  Tinggi Badan (cm)       Status Gizi\n",
      "0                  0     laki-laki          44.591973           stunted\n",
      "1                  0     laki-laki          56.705203            tinggi\n",
      "2                  0     laki-laki          46.863358            normal\n",
      "3                  0     laki-laki          47.508026            normal\n",
      "4                  0     laki-laki          42.743494  severely stunted\n",
      "...              ...           ...                ...               ...\n",
      "120959            60     perempuan         100.700000            normal\n",
      "120967            60     perempuan         113.700000            normal\n",
      "120968            60     perempuan         107.500000            normal\n",
      "120972            60     perempuan         127.600000            tinggi\n",
      "120993            60     perempuan         116.100000            normal\n",
      "\n",
      "[10491 rows x 4 columns]\n"
     ]
    }
   ],
   "source": [
    "stunting1 = stunting.drop_duplicates(keep=False)\n",
    "print('Result Data after duplicate removal :', stunting1)"
   ]
  },
  {
   "cell_type": "code",
   "execution_count": 11,
   "id": "434c3850",
   "metadata": {},
   "outputs": [
    {
     "name": "stdout",
     "output_type": "stream",
     "text": [
      "data shape :  (10491, 4)\n"
     ]
    }
   ],
   "source": [
    "print('data shape : ', stunting1.shape)"
   ]
  },
  {
   "cell_type": "code",
   "execution_count": 12,
   "id": "13c022e4",
   "metadata": {},
   "outputs": [
    {
     "name": "stdout",
     "output_type": "stream",
     "text": [
      "<class 'pandas.core.frame.DataFrame'>\n",
      "Int64Index: 10491 entries, 0 to 120993\n",
      "Data columns (total 4 columns):\n",
      " #   Column             Non-Null Count  Dtype  \n",
      "---  ------             --------------  -----  \n",
      " 0   Umur (bulan)       10491 non-null  int64  \n",
      " 1   Jenis Kelamin      10491 non-null  object \n",
      " 2   Tinggi Badan (cm)  10491 non-null  float64\n",
      " 3   Status Gizi        10491 non-null  object \n",
      "dtypes: float64(1), int64(1), object(2)\n",
      "memory usage: 409.8+ KB\n"
     ]
    }
   ],
   "source": [
    "stunting1.info()"
   ]
  },
  {
   "cell_type": "code",
   "execution_count": 13,
   "id": "37bf6dd9",
   "metadata": {},
   "outputs": [
    {
     "data": {
      "image/png": "[encoded data removed]",
      "text/plain": [
       "<Figure size 640x480 with 1 Axes>"
      ]
     },
     "metadata": {},
     "output_type": "display_data"
    }
   ],
   "source": [
    "sns.set_theme(style='ticks')\n",
    "sns.countplot(y= 'Status Gizi', data=stunting1, palette='flare')\n",
    "plt.ylabel(\"Status Gizi\")\n",
    "plt.xlabel(\"Total/Jumlah\")\n",
    "plt.show()"
   ]
  },
  {
   "cell_type": "code",
   "execution_count": 14,
   "id": "44dda464",
   "metadata": {},
   "outputs": [
    {
     "data": {
      "image/png": "[encoded data removed]",
      "text/plain": [
       "<Figure size 640x480 with 1 Axes>"
      ]
     },
     "metadata": {},
     "output_type": "display_data"
    }
   ],
   "source": [
    "sns.set_theme(style='darkgrid')\n",
    "sns.countplot(x= 'Jenis Kelamin', data=stunting1, palette='rocket')\n",
    "plt.ylabel(\"Jumlah\")\n",
    "plt.xlabel(\"Jenis Kelamin\")\n",
    "plt.show()"
   ]
  },
  {
   "cell_type": "code",
   "execution_count": 15,
   "id": "b553fdc2",
   "metadata": {},
   "outputs": [],
   "source": [
    "from sklearn.preprocessing import LabelEncoder"
   ]
  },
  {
   "cell_type": "code",
   "execution_count": 17,
   "id": "ffc03495",
   "metadata": {},
   "outputs": [],
   "source": [
    "label_encoder = LabelEncoder()\n",
    "\n",
    "stunting2 = stunting1.copy()\n",
    "stunting2['Jenis Kelamin']=label_encoder.fit_transform(stunting2['Jenis Kelamin'])\n",
    "stunting2['Status Gizi']=label_encoder.fit_transform(stunting2['Status Gizi'])"
   ]
  },
  {
   "cell_type": "code",
   "execution_count": 19,
   "id": "85307506",
   "metadata": {},
   "outputs": [
    {
     "data": {
      "text/plain": [
       "0    4969\n",
       "3    2633\n",
       "1    1850\n",
       "2    1039\n",
       "Name: Status Gizi, dtype: int64"
      ]
     },
     "execution_count": 19,
     "metadata": {},
     "output_type": "execute_result"
    }
   ],
   "source": [
    "stunting2['Status Gizi'].value_counts()"
   ]
  },
  {
   "cell_type": "code",
   "execution_count": 20,
   "id": "3e1f4a46",
   "metadata": {},
   "outputs": [
    {
     "data": {
      "text/plain": [
       "1    5336\n",
       "0    5155\n",
       "Name: Jenis Kelamin, dtype: int64"
      ]
     },
     "execution_count": 20,
     "metadata": {},
     "output_type": "execute_result"
    }
   ],
   "source": [
    "stunting2['Jenis Kelamin'].value_counts()"
   ]
  },
  {
   "cell_type": "code",
   "execution_count": 21,
   "id": "2d048a04",
   "metadata": {},
   "outputs": [
    {
     "name": "stdout",
     "output_type": "stream",
     "text": [
      "<class 'pandas.core.frame.DataFrame'>\n",
      "Int64Index: 10491 entries, 0 to 120993\n",
      "Data columns (total 4 columns):\n",
      " #   Column             Non-Null Count  Dtype  \n",
      "---  ------             --------------  -----  \n",
      " 0   Umur (bulan)       10491 non-null  int64  \n",
      " 1   Jenis Kelamin      10491 non-null  int32  \n",
      " 2   Tinggi Badan (cm)  10491 non-null  float64\n",
      " 3   Status Gizi        10491 non-null  int32  \n",
      "dtypes: float64(1), int32(2), int64(1)\n",
      "memory usage: 327.8 KB\n"
     ]
    }
   ],
   "source": [
    "stunting2.info()"
   ]
  },
  {
   "cell_type": "code",
   "execution_count": 22,
   "id": "761b3f0e",
   "metadata": {},
   "outputs": [
    {
     "name": "stdout",
     "output_type": "stream",
     "text": [
      "x :  (10491, 3)\n",
      "y :  (10491,)\n"
     ]
    }
   ],
   "source": [
    "x = stunting2.drop(columns = ['Status Gizi'])\n",
    "y = stunting2['Status Gizi']\n",
    "\n",
    "print(\"x : \", x.shape)\n",
    "print(\"y : \", y.shape)"
   ]
  },
  {
   "cell_type": "code",
   "execution_count": 23,
   "id": "99113516",
   "metadata": {},
   "outputs": [],
   "source": [
    "from sklearn.model_selection import train_test_split\n",
    "\n",
    "X_train, X_test, y_train, y_test = train_test_split(x, y,\n",
    "                                                    test_size=0.2,\n",
    "                                                    random_state=42)"
   ]
  },
  {
   "cell_type": "code",
   "execution_count": 29,
   "id": "5de286dd",
   "metadata": {},
   "outputs": [],
   "source": [
    "from sklearn.preprocessing import StandardScaler\n",
    "\n",
    "scaler = StandardScaler()\n",
    "\n",
    "# Inisialisasi dan fit scaler pada data train\n",
    "X_train_scaled = scaler.fit_transform(X_train)\n",
    "\n",
    "# Standarisasi data test\n",
    "X_test_scaled = scaler.transform(X_test)"
   ]
  },
  {
   "cell_type": "code",
   "execution_count": 30,
   "id": "257071a5",
   "metadata": {},
   "outputs": [],
   "source": [
    "error = []\n",
    "\n",
    "# Calculating error for K values between 1 and 40\n",
    "for i in range(1, 40):  \n",
    "    knn = KNeighborsClassifier(n_neighbors=i)\n",
    "    knn.fit(X_train, y_train)\n",
    "    pred_i = knn.predict(X_test)\n",
    "    error.append(np.mean(pred_i != y_test))"
   ]
  },
  {
   "cell_type": "code",
   "execution_count": 31,
   "id": "7ebd6d3f",
   "metadata": {},
   "outputs": [
    {
     "data": {
      "text/plain": [
       "Text(0, 0.5, 'Error rata-rata')"
      ]
     },
     "execution_count": 31,
     "metadata": {},
     "output_type": "execute_result"
    },
    {
     "data": {
      "image/png": "[encoded data removed]",
      "text/plain": [
       "<Figure size 1200x600 with 1 Axes>"
      ]
     },
     "metadata": {},
     "output_type": "display_data"
    }
   ],
   "source": [
    "\n",
    "plt.figure(figsize=(12, 6))  \n",
    "plt.plot(range(1, 40), error, color='red', linestyle='dashed', marker='o',  \n",
    "         markerfacecolor='blue', markersize=10)\n",
    "plt.title('Error Rate Nilai K')  \n",
    "plt.xlabel('Nilai K')  \n",
    "plt.ylabel('Error rata-rata')"
   ]
  },
  {
   "cell_type": "markdown",
   "id": "a245468d",
   "metadata": {},
   "source": [
    "# MODELLING\n"
   ]
  },
  {
   "cell_type": "code",
   "execution_count": 36,
   "id": "30d9b295",
   "metadata": {},
   "outputs": [],
   "source": [
    "#mengukur performa model\n",
    "from sklearn.metrics import classification_report, confusion_matrix, accuracy_score\n",
    "#pemodelan KNN\n",
    "from sklearn.neighbors import KNeighborsClassifier\n"
   ]
  },
  {
   "cell_type": "code",
   "execution_count": 51,
   "id": "4d8a8365",
   "metadata": {},
   "outputs": [],
   "source": [
    "knn = KNeighborsClassifier(n_neighbors=2)\n",
    "knn.fit(X_train_scaled, y_train)\n",
    "\n",
    "y_pred = knn.predict(X_test_scaled)\n"
   ]
  },
  {
   "cell_type": "code",
   "execution_count": 52,
   "id": "1a793e1b",
   "metadata": {},
   "outputs": [
    {
     "name": "stdout",
     "output_type": "stream",
     "text": [
      "[[977   0   5   7]\n",
      " [  0 368   1   0]\n",
      " [ 16   5 171   0]\n",
      " [ 13   0   0 536]]\n",
      "              precision    recall  f1-score   support\n",
      "\n",
      "           0       0.97      0.99      0.98       989\n",
      "           1       0.99      1.00      0.99       369\n",
      "           2       0.97      0.89      0.93       192\n",
      "           3       0.99      0.98      0.98       549\n",
      "\n",
      "    accuracy                           0.98      2099\n",
      "   macro avg       0.98      0.96      0.97      2099\n",
      "weighted avg       0.98      0.98      0.98      2099\n",
      "\n",
      "Akurasi KNN : 97.76%\n"
     ]
    }
   ],
   "source": [
    "KNN_acc = accuracy_score(y_pred, y_test)\n",
    "\n",
    "print(confusion_matrix(y_test, y_pred))\n",
    "print(classification_report(y_test, y_pred))\n",
    "print(\"Akurasi KNN : {:.2f}%\".format(KNN_acc*100))"
   ]
  },
  {
   "cell_type": "markdown",
   "id": "70b4be5d",
   "metadata": {},
   "source": [
    "# TESTING"
   ]
  },
  {
   "cell_type": "code",
   "execution_count": 53,
   "id": "890dc528",
   "metadata": {},
   "outputs": [
    {
     "data": {
      "text/html": [
       "<div>\n",
       "<style scoped>\n",
       "    .dataframe tbody tr th:only-of-type {\n",
       "        vertical-align: middle;\n",
       "    }\n",
       "\n",
       "    .dataframe tbody tr th {\n",
       "        vertical-align: top;\n",
       "    }\n",
       "\n",
       "    .dataframe thead th {\n",
       "        text-align: right;\n",
       "    }\n",
       "</style>\n",
       "<table border=\"1\" class=\"dataframe\">\n",
       "  <thead>\n",
       "    <tr style=\"text-align: right;\">\n",
       "      <th></th>\n",
       "      <th>Umur (bulan)</th>\n",
       "      <th>Jenis Kelamin</th>\n",
       "      <th>Tinggi Badan (cm)</th>\n",
       "    </tr>\n",
       "  </thead>\n",
       "  <tbody>\n",
       "    <tr>\n",
       "      <th>0</th>\n",
       "      <td>30</td>\n",
       "      <td>1</td>\n",
       "      <td>100</td>\n",
       "    </tr>\n",
       "  </tbody>\n",
       "</table>\n",
       "</div>"
      ],
      "text/plain": [
       "   Umur (bulan)  Jenis Kelamin  Tinggi Badan (cm)\n",
       "0            30              1                100"
      ]
     },
     "execution_count": 53,
     "metadata": {},
     "output_type": "execute_result"
    }
   ],
   "source": [
    "testing = {'Umur (bulan)' : [30],\n",
    "           'Jenis Kelamin' : [1],    # 0 : laki-laki , 1 : Perempuan\n",
    "           'Tinggi Badan (cm)' : [100]}\n",
    "\n",
    "testing = pd.DataFrame(testing)\n",
    "testing"
   ]
  },
  {
   "cell_type": "code",
   "execution_count": 54,
   "id": "9018e14e",
   "metadata": {},
   "outputs": [
    {
     "name": "stdout",
     "output_type": "stream",
     "text": [
      "Hasil Prediksi Anak ini :\n",
      "[3]\n"
     ]
    },
    {
     "name": "stderr",
     "output_type": "stream",
     "text": [
      "C:\\Users\\Asus\\AppData\\Local\\Programs\\Python\\Python311\\Lib\\site-packages\\sklearn\\base.py:432: UserWarning: X has feature names, but KNeighborsClassifier was fitted without feature names\n",
      "  warnings.warn(\n"
     ]
    }
   ],
   "source": [
    "pred_coba = knn.predict(testing)\n",
    "print(\"Hasil Prediksi Anak ini :\")\n",
    "print(pred_coba)\n",
    "\n",
    "# 0 : normal\n",
    "# 1 : severely stunted\n",
    "# 2 : stunted\n",
    "# 3 : Gizi tinggi/Sehat"
   ]
  },
  {
   "cell_type": "code",
   "execution_count": 25,
   "id": "738b0ddf",
   "metadata": {},
   "outputs": [],
   "source": [
    "#save model\n",
    "import pickle\n",
    "\n",
    "with open(\"model_knn\", \"wb\") as model_file:\n",
    "    pickle.dump((scaler, knn), model_file)"
   ]
  },
  {
   "cell_type": "code",
   "execution_count": 26,
   "id": "65b5ce8b",
   "metadata": {},
   "outputs": [],
   "source": [
    "#load model\n",
    "with open(\"model_knn\", \"rb\") as model_file:\n",
    "    scaler, loaded_model_knn = pickle.load(model_file)"
   ]
  },
  {
   "cell_type": "code",
   "execution_count": 27,
   "id": "938fe3e7",
   "metadata": {},
   "outputs": [],
   "source": [
    "feature_names = ['Umur (bulan)', 'Jenis Kelamin', 'Tinggi Badan (cm)']\n",
    "testing = [[30,1,100]]\n",
    "testing = pd.DataFrame(testing, columns= feature_names)\n",
    "testing\n",
    "print(\"knn :\",loaded_model_knn.predict(testing))\n",
    "\n",
    "# 0 : normal\n",
    "# 1 : severely stunted\n",
    "# 2 : stunted\n",
    "# 3 : Gizi tinggi/Sehat"
   ]
  },
  {
   "cell_type": "code",
   "execution_count": null,
   "id": "30952378",
   "metadata": {},
   "outputs": [],
   "source": []
  }
 ],
 "metadata": {
  "kernelspec": {
   "display_name": "Python 3 (ipykernel)",
   "language": "python",
   "name": "python3"
  },
  "language_info": {
   "codemirror_mode": {
    "name": "ipython",
    "version": 3
   },
   "file_extension": ".py",
   "mimetype": "text/x-python",
   "name": "python",
   "nbconvert_exporter": "python",
   "pygments_lexer": "ipython3",
   "version": "3.11.3"
  }
 },
 "nbformat": 4,
 "nbformat_minor": 5
}
